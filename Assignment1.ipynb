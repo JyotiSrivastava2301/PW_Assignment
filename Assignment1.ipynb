{
 "cells": [
  {
   "cell_type": "code",
   "execution_count": 6,
   "id": "ec87b37b-6033-41db-98e5-4cad1a4a4380",
   "metadata": {},
   "outputs": [
    {
     "name": "stdout",
     "output_type": "stream",
     "text": [
      "0\n",
      "1\n",
      "2\n",
      "3\n",
      "4\n",
      "5\n",
      "6\n",
      "7\n",
      "8\n",
      "9\n",
      "10\n"
     ]
    }
   ],
   "source": [
    "#QUES1----------------\n",
    "#using for loop - when we know the n no. of iterations.\n",
    "for i in range(11):\n",
    "    print(i)"
   ]
  },
  {
   "cell_type": "code",
   "execution_count": 10,
   "id": "991588e5-fbd1-4816-981f-eeabbe038481",
   "metadata": {},
   "outputs": [
    {
     "name": "stdout",
     "output_type": "stream",
     "text": [
      "0\n",
      "1\n",
      "2\n",
      "3\n",
      "4\n",
      "5\n",
      "6\n",
      "7\n",
      "8\n",
      "9\n",
      "10\n"
     ]
    }
   ],
   "source": [
    "#QUES1----------------------\n",
    "#Using while loop - while loop executes the blow until the given condition is true.\n",
    "n=0\n",
    "while n<11:\n",
    "    print(n)\n",
    "    n+=1"
   ]
  },
  {
   "cell_type": "code",
   "execution_count": null,
   "id": "771a64f9-e064-4556-9e4d-1f5862e54af1",
   "metadata": {},
   "outputs": [],
   "source": []
  },
  {
   "cell_type": "code",
   "execution_count": 21,
   "id": "8e63ce20-585c-47c5-94a1-a4c76d5e2321",
   "metadata": {},
   "outputs": [
    {
     "name": "stdout",
     "output_type": "stream",
     "text": [
      "55\n"
     ]
    }
   ],
   "source": [
    "#Ques-2-------------------\n",
    "#Using for loop\n",
    "sum = 0 \n",
    "for i in range(1, 11): \n",
    "  sum += i \n",
    "print(sum)"
   ]
  },
  {
   "cell_type": "code",
   "execution_count": 9,
   "id": "1023d170-b5f9-40a7-80e1-bc9a7d87efd8",
   "metadata": {},
   "outputs": [
    {
     "name": "stdout",
     "output_type": "stream",
     "text": [
      "The sum is :  55\n"
     ]
    }
   ],
   "source": [
    "#Ques2------------\n",
    "#Using while loop\n",
    "n=1\n",
    "sum=0\n",
    "while n<=10:\n",
    "    sum+=n\n",
    "    n+=1\n",
    "print(\"The sum is : \" , sum)"
   ]
  },
  {
   "cell_type": "code",
   "execution_count": null,
   "id": "75fc1a01-8607-4ec2-923b-2f977df2737d",
   "metadata": {},
   "outputs": [],
   "source": []
  },
  {
   "cell_type": "code",
   "execution_count": 15,
   "id": "002855da-4bb7-40d5-a78b-f5e6c618a08b",
   "metadata": {},
   "outputs": [
    {
     "name": "stdin",
     "output_type": "stream",
     "text": [
      "Enter the unit 310\n"
     ]
    },
    {
     "name": "stdout",
     "output_type": "stream",
     "text": [
      "total bill :  2250\n"
     ]
    }
   ],
   "source": [
    "#QUES-3---------------------\n",
    "#electricity bill\n",
    "\n",
    "bill=0\n",
    "unit = int(input(\"Enter the unit\"))\n",
    "if unit <= 100:\n",
    "    bill = unit * 4.5\n",
    "elif unit<=200:\n",
    "           bill=100*4.5+(unit-100)*6\n",
    "elif unit<=300:\n",
    "           bill=100*4.5+(200-100)*6+(unit-200)*10\n",
    "else:\n",
    "    bill = 450 + 600+ 1000 + ((unit - 300) * 20)\n",
    "print(\"total bill : \" ,bill)"
   ]
  },
  {
   "cell_type": "code",
   "execution_count": null,
   "id": "ed64e80d-d25c-4444-b149-cf491adc2b8e",
   "metadata": {},
   "outputs": [],
   "source": []
  },
  {
   "cell_type": "code",
   "execution_count": 20,
   "id": "1a7d5a36-a12a-4d8d-9d75-2c939c9625a2",
   "metadata": {},
   "outputs": [
    {
     "name": "stdout",
     "output_type": "stream",
     "text": [
      "[0, 1, 8, 27, 64, 125, 216, 343, 512, 729, 1000, 1331, 1728, 2197, 2744, 3375, 4096, 4913, 5832, 6859, 8000, 9261, 10648, 12167, 13824, 15625, 17576, 19683, 21952, 24389, 27000, 29791, 32768, 35937, 39304, 42875, 46656, 50653, 54872, 59319, 64000, 68921, 74088, 79507, 85184, 91125, 97336, 103823, 110592, 117649, 125000, 132651, 140608, 148877, 157464, 166375, 175616, 185193, 195112, 205379, 216000, 226981, 238328, 250047, 262144, 274625, 287496, 300763, 314432, 328509, 343000, 357911, 373248, 389017, 405224, 421875, 438976, 456533, 474552, 493039, 512000, 531441, 551368, 571787, 592704, 614125, 636056, 658503, 681472, 704969, 729000, 753571, 778688, 804357, 830584, 857375, 884736, 912673, 941192, 970299]\n"
     ]
    }
   ],
   "source": [
    "#QUES-4 -----------------\n",
    "\n",
    "cube = []\n",
    "for i in range(100):\n",
    "    cube.append(i**3)\n",
    "print(cube)"
   ]
  },
  {
   "cell_type": "code",
   "execution_count": 15,
   "id": "17644c2d-07ed-4b4e-bae7-cfc31e2b5103",
   "metadata": {},
   "outputs": [
    {
     "name": "stdout",
     "output_type": "stream",
     "text": [
      "After removing vowels :  I wnt t bcm  dt scntst\n"
     ]
    }
   ],
   "source": [
    "#QUES-5 ----------\n",
    "#VOWELS\n",
    "\n",
    "string = \"I want to become a data scientist\"\n",
    "result = string\n",
    "\n",
    "vowels = ('a', 'e', 'i', 'o', 'u')\n",
    "\n",
    "for i in string.lower():\n",
    "    if i in vowels:\n",
    "        result = result.replace(i, \"\")\n",
    "\n",
    "print('After removing vowels : ', result)"
   ]
  },
  {
   "cell_type": "code",
   "execution_count": null,
   "id": "62982780-71d5-4871-87b3-e15fe755b544",
   "metadata": {},
   "outputs": [],
   "source": []
  }
 ],
 "metadata": {
  "kernelspec": {
   "display_name": "Python 3 (ipykernel)",
   "language": "python",
   "name": "python3"
  },
  "language_info": {
   "codemirror_mode": {
    "name": "ipython",
    "version": 3
   },
   "file_extension": ".py",
   "mimetype": "text/x-python",
   "name": "python",
   "nbconvert_exporter": "python",
   "pygments_lexer": "ipython3",
   "version": "3.9.13"
  }
 },
 "nbformat": 4,
 "nbformat_minor": 5
}
